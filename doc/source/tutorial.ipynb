{
 "cells": [
  {
   "cell_type": "markdown",
   "metadata": {},
   "source": [
    "[Back to manual](../karta-manual.html)\n",
    "\n",
    "[Back to introduction](../introduction.html)"
   ]
  },
  {
   "cell_type": "markdown",
   "metadata": {},
   "source": [
    "# Karta tutorial\n",
    "\n",
    "\n",
    "## Introduction\n",
    "\n",
    "*Karta* provides a set of tools for analysing geographical data. The organization of *Karta* is around a set of classes for representing vector and raster data. These classes contain built-in methods for common tasks, and are easily extended for more specialized processing. This tutorial provides a brief introduction to the elements of *Karta*.\n",
    "\n",
    "Should you come across any mistakes, please file a bug or submit a pull request on [Github](https://github.com/fortyninemaps/karta)!\n",
    "\n",
    "The following examples are shown using Python 3, however *Karta* is supported on Python 2.7+ and Python 3.4+.\n",
    "\n",
    "## Definitions\n",
    "\n",
    "**Vector data** are data that can be treated as a set of connected or disconnected vertices. Examples might be road networks, a set of borders, geophysical survey lines, or the path taken by a bottle floating in an ocean current. In *Karta*, these data are classified as belonging to *Point*, *Line* and *Polygon* classes, and their *Multipart* equivalents *Multipoint*, *Multiline*, and *Multipolygon*. Some questions that might be asked\n",
    "of vector data include\n",
    "\n",
    "- which of these points are contained in this Polygon?\n",
    "- do these Lines intersect, and where?\n",
    "- what is the average distance travelled by a particle?\n",
    "- what municipalities does this river flow through?\n",
    "\n",
    "**Raster data** is data that are typically thought of in terms of pixels or a grid of values covering a surface. Examples might be an elevation model, a satellite image, or an upstream area map. Depending on what the data represents, one might\n",
    "\n",
    "- compute slope, aspect, and hillshades on an elevation model\n",
    "- resample or interpolate a grid\n",
    "- mask a land cover map according to management boundaries\n",
    "- apply a pansharpening algorithm to multispectral satellite imagery\n",
    "- extract an elevation profile along a path\n",
    "\n",
    "The term **coordinate reference system** refers to a system of relating numerical coordinates to actual positions on Earth. *Karta* includes methods for geodetic calculations and basic support of projected and geographical coordinates, as well as coordinate system classes backed by *pyproj*."
   ]
  },
  {
   "cell_type": "markdown",
   "metadata": {},
   "source": [
    "## Vector data\n",
    "\n",
    "This section demonstrates the creation and manipulation of vector data."
   ]
  },
  {
   "cell_type": "code",
   "execution_count": 1,
   "metadata": {},
   "outputs": [],
   "source": [
    "from karta import Point, Line, Polygon, Multipoint, Multiline, Multipolygon"
   ]
  },
  {
   "cell_type": "markdown",
   "metadata": {},
   "source": [
    "The `Point`, `Line`, and `Polygon` classes can all be instantiated by providing vertices, and optionally, associated properties. The *Multipart* `Multipoint`, `Multiline`, and `Multipolygon` classes are similar, and can additionally include part-specific tabular metadata."
   ]
  },
  {
   "cell_type": "code",
   "execution_count": 2,
   "metadata": {},
   "outputs": [
    {
     "name": "stdout",
     "output_type": "stream",
     "text": [
      "Point(-123.1, 49.25)\n"
     ]
    }
   ],
   "source": [
    "pt = Point((-123.1, 49.25))\n",
    "print(pt)"
   ]
  },
  {
   "cell_type": "code",
   "execution_count": 3,
   "metadata": {},
   "outputs": [
    {
     "name": "stdout",
     "output_type": "stream",
     "text": [
      "<karta.vector.geometry.Multipoint object at 0x7fe2e041e2e8>\n",
      "D[color, value]\n"
     ]
    }
   ],
   "source": [
    "mpt = Multipoint([(-122.93, 48.62),\n",
    "                  (-123.10, 48.54),\n",
    "                  (-122.90, 48.49),\n",
    "                  (-122.81, 48.56)],\n",
    "                 data={\"color\": [\"red\", \"blue\", \"green\", \"yellow\"],\n",
    "                       \"value\": [2, 1, 3, 5]})\n",
    "print(mpt)\n",
    "print(mpt.data)"
   ]
  },
  {
   "cell_type": "code",
   "execution_count": 4,
   "metadata": {},
   "outputs": [
    {
     "name": "stdout",
     "output_type": "stream",
     "text": [
      "<karta.vector.geometry.Line object at 0x7fe2e041e0f0>\n"
     ]
    }
   ],
   "source": [
    "line = Line([(-124.35713, 49.31437),\n",
    "             (-124.37857, 49.31720),\n",
    "             (-124.39442, 49.31833),\n",
    "             (-124.40311, 49.31942),\n",
    "             (-124.41052, 49.32203),\n",
    "             (-124.41681, 49.32477),\n",
    "             (-124.42278, 49.32588)])\n",
    "print(line)"
   ]
  },
  {
   "cell_type": "code",
   "execution_count": 5,
   "metadata": {},
   "outputs": [
    {
     "name": "stdout",
     "output_type": "stream",
     "text": [
      "<karta.vector.geometry.Polygon object at 0x7fe324633be0>\n"
     ]
    }
   ],
   "source": [
    "poly = Polygon([(-25.41, 67.03),\n",
    "                (-24.83, 62.92),\n",
    "                (-12.76, 63.15),\n",
    "                (-11.44, 66.82)])\n",
    "print(poly)"
   ]
  },
  {
   "cell_type": "markdown",
   "metadata": {},
   "source": [
    "Each geometrical object now contains a vertex/vertices in a cartesian plane.\n",
    "\n",
    "We may be interested in determining whether the `Point` created about is within the `Polygon`:"
   ]
  },
  {
   "cell_type": "code",
   "execution_count": 6,
   "metadata": {},
   "outputs": [
    {
     "name": "stdout",
     "output_type": "stream",
     "text": [
      "False\n"
     ]
    }
   ],
   "source": [
    "print(poly.contains(pt))       # False"
   ]
  },
  {
   "cell_type": "code",
   "execution_count": 7,
   "metadata": {},
   "outputs": [
    {
     "name": "stdout",
     "output_type": "stream",
     "text": [
      "True\n"
     ]
    }
   ],
   "source": [
    "# but this one is:\n",
    "pt2 = Point((-25, 65))\n",
    "print(poly.contains(pt2))      # True"
   ]
  },
  {
   "cell_type": "markdown",
   "metadata": {},
   "source": [
    "We also can test whether the `Line` from above crosses the `Polygon`:"
   ]
  },
  {
   "cell_type": "code",
   "execution_count": 8,
   "metadata": {},
   "outputs": [
    {
     "name": "stdout",
     "output_type": "stream",
     "text": [
      "False\n"
     ]
    }
   ],
   "source": [
    "print(line.intersects(poly))   # False"
   ]
  },
  {
   "cell_type": "markdown",
   "metadata": {},
   "source": [
    "Or compute the shortest distance between the `Point` and the `Line`:"
   ]
  },
  {
   "cell_type": "code",
   "execution_count": 9,
   "metadata": {},
   "outputs": [
    {
     "name": "stdout",
     "output_type": "stream",
     "text": [
      "1.2587769197915923\n"
     ]
    }
   ],
   "source": [
    "print(line.shortest_distance_to(pt))"
   ]
  },
  {
   "cell_type": "markdown",
   "metadata": {},
   "source": [
    "There are methods for computing the nearest vertex to an external point, or the nearest point on an edge to an external point:"
   ]
  },
  {
   "cell_type": "code",
   "execution_count": 10,
   "metadata": {},
   "outputs": [
    {
     "name": "stdout",
     "output_type": "stream",
     "text": [
      "2\n",
      "Point(-12.301580009598124, 64.42454648846582)\n"
     ]
    }
   ],
   "source": [
    "pt = Point((0.0, 60.0))\n",
    "print(poly.nearest_vertex_to(pt))\n",
    "print(poly.nearest_on_boundary(pt))"
   ]
  },
  {
   "cell_type": "markdown",
   "metadata": {},
   "source": [
    "The positions of objects with multiple vertices can be sliced and iterated through:"
   ]
  },
  {
   "cell_type": "code",
   "execution_count": 11,
   "metadata": {},
   "outputs": [
    {
     "name": "stdout",
     "output_type": "stream",
     "text": [
      "<karta.vector.geometry.Line object at 0x7fe2e0419da0>\n",
      "Point(-124.39442, 49.31833)\n",
      "Point(-124.40311, 49.31942)\n",
      "Point(-124.41052, 49.32203)\n"
     ]
    }
   ],
   "source": [
    "subline = line[2:-2]\n",
    "print(subline)\n",
    "\n",
    "for pt in subline:\n",
    "    print(pt)"
   ]
  },
  {
   "cell_type": "markdown",
   "metadata": {},
   "source": [
    "A slice that takes part of a polygon returns a line."
   ]
  },
  {
   "cell_type": "code",
   "execution_count": 12,
   "metadata": {},
   "outputs": [
    {
     "name": "stdout",
     "output_type": "stream",
     "text": [
      "<karta.vector.geometry.Line object at 0x7fe2e0419ac8>\n"
     ]
    }
   ],
   "source": [
    "print(poly[:2])"
   ]
  },
  {
   "cell_type": "markdown",
   "metadata": {},
   "source": [
    "Points have a `distance()` method that calculates the distance to another point."
   ]
  },
  {
   "cell_type": "code",
   "execution_count": 13,
   "metadata": {},
   "outputs": [
    {
     "name": "stdout",
     "output_type": "stream",
     "text": [
      "53.00666467530286\n"
     ]
    }
   ],
   "source": [
    "pt = Point((-123.1, 49.25))\n",
    "pt2 = Point((-70.66, 41.52))\n",
    "print(pt.distance(pt2))"
   ]
  },
  {
   "cell_type": "markdown",
   "metadata": {},
   "source": [
    "By default, geometries in Karta use a planar cartesian coordinate system. If our positions are meant to be geographical coordinates, then we can provide the `crs` argument to each geometry at creation, as in"
   ]
  },
  {
   "cell_type": "code",
   "execution_count": 14,
   "metadata": {},
   "outputs": [
    {
     "data": {
      "text/plain": [
       "4109559.5877279835"
      ]
     },
     "execution_count": 14,
     "metadata": {},
     "output_type": "execute_result"
    }
   ],
   "source": [
    "from karta.crs import LonLatWGS84\n",
    "\n",
    "pt = Point((-123.1, 49.25), crs=LonLatWGS84)\n",
    "pt2 = Point((-70.66, 41.52), crs=LonLatWGS84)\n",
    "pt.distance(pt2)"
   ]
  },
  {
   "cell_type": "markdown",
   "metadata": {},
   "source": [
    "which now gives the great circle distance between point on the Earth, in meters. We can mix coordinate systems to some degree, with *Karta* performing the necessary transformations in the background:"
   ]
  },
  {
   "cell_type": "code",
   "execution_count": 15,
   "metadata": {},
   "outputs": [
    {
     "name": "stdout",
     "output_type": "stream",
     "text": [
      "194483.5977009545\n"
     ]
    }
   ],
   "source": [
    "from karta.crs import WebMercator\n",
    "\n",
    "pt_web = Point((-14000000, 6300000), crs=WebMercator)\n",
    "print(pt.distance(pt_web))   # distance in coordinate system units of *pt*"
   ]
  },
  {
   "cell_type": "markdown",
   "metadata": {},
   "source": [
    "When the coordinate system is specified, all geometrical methods obey that coordinate system. We can use this to perform queries, such which American state capitols are within 2000 km of Mexico City?"
   ]
  },
  {
   "cell_type": "code",
   "execution_count": 16,
   "metadata": {},
   "outputs": [
    {
     "name": "stdout",
     "output_type": "stream",
     "text": [
      "1785 km      Oklahoma City, Oklahoma, United States\n",
      "1923 km      Montgomery, Alabama, United States\n",
      "1822 km      Little Rock, Arkansas, United States\n",
      "1933 km      Tallahassee, Florida, United States\n",
      "1463 km      Baton Rouge, Louisiana, United States\n",
      "1683 km      Jackson, Mississippi, United States\n",
      "1922 km      Santa Fe, New Mexico, United States\n",
      "1213 km      Austin, Texas, United States\n"
     ]
    }
   ],
   "source": [
    "from karta.examples import us_capitols\n",
    "mexico_city = Point((-99.13, 19.43), crs=LonLatWGS84)\n",
    "\n",
    "# Filter those within 2000 km of Mexico City\n",
    "nearby = list(filter(lambda pt: pt.distance(mexico_city) < 2000e3, us_capitols))\n",
    "for capitol in nearby:\n",
    "    print(\"{0:4.0f} km      {1}\".format(mexico_city.distance(capitol)/1e3, capitol.properties[\"n\"]))"
   ]
  },
  {
   "cell_type": "code",
   "execution_count": 17,
   "metadata": {},
   "outputs": [
    {
     "name": "stdout",
     "output_type": "stream",
     "text": [
      "1213 km      Austin, Texas, United States\n",
      "1463 km      Baton Rouge, Louisiana, United States\n",
      "1683 km      Jackson, Mississippi, United States\n",
      "1785 km      Oklahoma City, Oklahoma, United States\n",
      "1822 km      Little Rock, Arkansas, United States\n",
      "1922 km      Santa Fe, New Mexico, United States\n",
      "1923 km      Montgomery, Alabama, United States\n",
      "1933 km      Tallahassee, Florida, United States\n",
      "2027 km      Phoenix, Arizona, United States\n",
      "2155 km      Atlanta, Georgia, United States\n",
      "2199 km      Topeka, Kansas, United States\n",
      "2214 km      Nashville, Tennessee, United States\n",
      "2225 km      Jefferson City, Missouri, United States\n",
      "2320 km      Denver, Colorado, United States\n",
      "2382 km      Lincoln, Nebraska, United States\n",
      "2414 km      Columbia, South Carolina, United States\n",
      "2429 km      Springfield, Illinois, United States\n",
      "2467 km      Cheyenne, Wyoming, United States\n",
      "2495 km      Frankfort, Kentucky, United States\n",
      "2510 km      Des Moines, Iowa, United States\n",
      "2576 km      Indianapolis, Indiana, United States\n",
      "2661 km      Salt Lake City, Utah, United States\n",
      "2694 km      Charleston, West Virginia, United States\n",
      "2708 km      Raleigh, North Carolina, United States\n",
      "2752 km      Columbus, Ohio, United States\n",
      "2769 km      Pierre, South Dakota, United States\n",
      "2777 km      Madison, Wisconsin, United States\n",
      "2885 km      Saint Paul, Minnesota, United States\n",
      "2904 km      Richmond, Virginia, United States\n",
      "2922 km      Lansing, Michigan, United States\n",
      "2947 km      Carson City, Nevada, United States\n",
      "3025 km      Sacramento, California, United States\n",
      "3030 km      Washington, District of Columbia, United States\n",
      "3041 km      Bismarck, North Dakota, United States\n",
      "3070 km      Annapolis, Maryland, United States\n",
      "3118 km      Boise, Idaho, United States\n",
      "3137 km      Harrisburg, Pennsylvania, United States\n",
      "3150 km      Dover, Delaware, United States\n",
      "3235 km      Helena, Montana, United States\n",
      "3274 km      Trenton, New Jersey, United States\n",
      "3506 km      Albany, New York, United States\n",
      "3517 km      Hartford, Connecticut, United States\n",
      "3585 km      Salem, Oregon, United States\n",
      "3605 km      Providence, Rhode Island, United States\n",
      "3665 km      Boston, Massachusetts, United States\n",
      "3688 km      Concord, New Hampshire, United States\n",
      "3696 km      Montpelier, Vermont, United States\n",
      "3748 km      Olympia, Washington, United States\n",
      "3879 km      Augusta, Maine, United States\n",
      "5172 km      Juneau, Alaska, United States\n",
      "6093 km      Honolulu, Hawaii, United States\n"
     ]
    }
   ],
   "source": [
    "# Or, list capitols from nearest to furthest from Mexico City\n",
    "distances = map(lambda pt: mexico_city.distance(pt), us_capitols)\n",
    "distances_capitols = sorted(zip(distances, us_capitols))\n",
    "for d, pt in distances_capitols:\n",
    "    print(\"{km:.0f} km      {name}\".format(km=d/1e3, name=pt.properties[\"n\"]))"
   ]
  },
  {
   "cell_type": "markdown",
   "metadata": {},
   "source": [
    "All of the above calculations are performed on a geoid. The `LonLatWGS84` coordinate system means to use geographical (longitude and latitude) coordinates on the WGS 84 ellipsoid."
   ]
  },
  {
   "cell_type": "markdown",
   "metadata": {},
   "source": [
    "### Associated data\n",
    "\n",
    "By using the `data` keyword argument, additional data can be associated with a *Multipart* vector geometry. The data can be a list or a dictionary of lists."
   ]
  },
  {
   "cell_type": "code",
   "execution_count": 18,
   "metadata": {},
   "outputs": [],
   "source": [
    "mp = Multipoint([(1, 1), (3, 1), (4, 3), (2, 2)],\n",
    "                data={\"species\": [\"T. officianale\", \"C. tectorum\",\n",
    "                                  \"M. alba\", \"V. cracca\"]})"
   ]
  },
  {
   "cell_type": "markdown",
   "metadata": {},
   "source": [
    "These data live in the `.data` attribute, which is a `Table` instance. For convenience, the data can also be accessed via the `.d` attribute, which provides a streamlined syntax supporting key-lookups, indexing, and slicing."
   ]
  },
  {
   "cell_type": "code",
   "execution_count": 19,
   "metadata": {},
   "outputs": [
    {
     "data": {
      "text/plain": [
       "Indexer(D[species])"
      ]
     },
     "execution_count": 19,
     "metadata": {},
     "output_type": "execute_result"
    }
   ],
   "source": [
    "mp.d"
   ]
  },
  {
   "cell_type": "code",
   "execution_count": 20,
   "metadata": {},
   "outputs": [
    {
     "data": {
      "text/plain": [
       "['T. officianale', 'C. tectorum', 'M. alba', 'V. cracca']"
      ]
     },
     "execution_count": 20,
     "metadata": {},
     "output_type": "execute_result"
    }
   ],
   "source": [
    "mp.d[\"species\"]"
   ]
  },
  {
   "cell_type": "code",
   "execution_count": 21,
   "metadata": {},
   "outputs": [
    {
     "data": {
      "text/plain": [
       "{'species': ['C. tectorum', 'M. alba']}"
      ]
     },
     "execution_count": 21,
     "metadata": {},
     "output_type": "execute_result"
    }
   ],
   "source": [
    "mp.d[1:3]"
   ]
  },
  {
   "cell_type": "markdown",
   "metadata": {},
   "source": [
    "The data are propagated through indexing operations on their parent geometry:"
   ]
  },
  {
   "cell_type": "code",
   "execution_count": 22,
   "metadata": {},
   "outputs": [
    {
     "name": "stdout",
     "output_type": "stream",
     "text": [
      "Point(4.0, 3.0) - M. alba\n"
     ]
    }
   ],
   "source": [
    "pt = mp[2]\n",
    "print(pt, \"-\", pt.properties[\"species\"])"
   ]
  },
  {
   "cell_type": "markdown",
   "metadata": {},
   "source": [
    "Geometry-level metadata at the geometry level can be provided using the `properties` keyword argument, which accepts a dictionary. Derived geometries carry the properties of their parent geometry."
   ]
  },
  {
   "cell_type": "code",
   "execution_count": 23,
   "metadata": {},
   "outputs": [
    {
     "name": "stdout",
     "output_type": "stream",
     "text": [
      "{'geology': 'volcanic', 'alcohol': 'brennivin'}\n"
     ]
    }
   ],
   "source": [
    "poly = Polygon([(-25.41, 67.03),\n",
    "                (-24.83, 62.92),\n",
    "                (-12.76, 63.15),\n",
    "                (-11.44, 66.82)],\n",
    "               properties={\"geology\": \"volcanic\",\n",
    "                           \"alcohol\": \"brennivin\"})\n",
    "print(poly[0:3].properties)"
   ]
  },
  {
   "cell_type": "markdown",
   "metadata": {},
   "source": [
    "### Visualizing and importing/exporting data\n",
    "\n",
    "The `get_coordinate_lists` method and `coordinates` attribute provide lists of coordinates for plotting or data export.\n",
    "\n",
    "Higher-level plotting operations are provided by the separate [`karta.plotting`](https://github.com/fortyninemaps/karta-map) submodule, not described here."
   ]
  },
  {
   "cell_type": "code",
   "execution_count": 24,
   "metadata": {},
   "outputs": [
    {
     "data": {
      "text/plain": [
       "[<matplotlib.lines.Line2D at 0x7fe2dbc026a0>]"
      ]
     },
     "execution_count": 24,
     "metadata": {},
     "output_type": "execute_result"
    },
    {
     "data": {
      "image/png": "[encoded data removed]",
      "text/plain": [
       "<Figure size 432x288 with 1 Axes>"
      ]
     },
     "metadata": {
      "needs_background": "light"
     },
     "output_type": "display_data"
    }
   ],
   "source": [
    "import matplotlib.pyplot as plt\n",
    "%matplotlib inline\n",
    "plt.plot(*line.coords())"
   ]
  },
  {
   "cell_type": "markdown",
   "metadata": {},
   "source": [
    "Data can be read from and written to several common formats, including ESRI shapefiles (through bindings to the *pyshp* module), GeoJSON, and GPX. Convenience functions are kept in the `karta.vector.read` namespace.\n",
    "\n",
    "Each geometry has appropriate methods to write data:"
   ]
  },
  {
   "cell_type": "code",
   "execution_count": 25,
   "metadata": {},
   "outputs": [],
   "source": [
    "line.to_shapefile(\"line.shp\")\n",
    "pt_web.to_geojson(\"point.geojson\")"
   ]
  },
  {
   "cell_type": "markdown",
   "metadata": {},
   "source": [
    "## Raster data\n",
    "\n",
    "Raster data are primarily represented by the `karta.RegularGrid` class. `RegularGrid` instances have a CRS, a Null-data value, a geotransform, and one or more *bands*, which containing the actual data.\n",
    "\n",
    "### Bands\n",
    "\n",
    "To provide flexibility, different band classes are provided by `karta.raster.bands` using different strategies for data storage.\n",
    "\n",
    "- The simplest case, `SimpleBand`, uses a numpy array to store all data. This makes it reasonably fast, but can be memory-hungry with large rasters.\n",
    "- The default case, `CompressedBand`, uses chunking and compression via the *blosc* library to reduce the memory footprint of the raster data at a small speed cost.\n",
    "- `GdalFileBand` reads data directly from a valid GDAL datasource, using the least memory but performing the slowest.\n",
    "\n",
    "> Note: `GdalFileBand` doesn't currently handle all raster operations supported by the other band types. Many operations implicitly convert to in-memory `CompressedBand` representation."
   ]
  },
  {
   "cell_type": "code",
   "execution_count": 26,
   "metadata": {},
   "outputs": [
    {
     "name": "stdout",
     "output_type": "stream",
     "text": [
      "[<karta.raster.band.CompressedBand object at 0x7fe2dbbcd400>]\n"
     ]
    }
   ],
   "source": [
    "import numpy as np\n",
    "from karta.raster import RegularGrid, SimpleBand, CompressedBand, read_gtiff\n",
    "\n",
    "ls8 = read_gtiff(\"LC08_L1TP_011031_20180930_20181010_01_T1_B8.TIF\")\n",
    "print(ls8.bands)     # list of one CompressedBand instance"
   ]
  },
  {
   "cell_type": "code",
   "execution_count": 27,
   "metadata": {},
   "outputs": [
    {
     "name": "stdout",
     "output_type": "stream",
     "text": [
      "(15861, 15601)\n"
     ]
    }
   ],
   "source": [
    "# Print grid dimensions\n",
    "print(ls8.size)"
   ]
  },
  {
   "cell_type": "code",
   "execution_count": 28,
   "metadata": {},
   "outputs": [
    {
     "name": "stdout",
     "output_type": "stream",
     "text": [
      "(319200.0, 553200.0, 4503900.0, 4741800.0)\n"
     ]
    }
   ],
   "source": [
    "# Print grid extent\n",
    "print(ls8.extent())"
   ]
  },
  {
   "cell_type": "code",
   "execution_count": 30,
   "metadata": {},
   "outputs": [
    {
     "data": {
      "text/plain": [
       "<matplotlib.colorbar.Colorbar at 0x7fe2dbb6a198>"
      ]
     },
     "execution_count": 30,
     "metadata": {},
     "output_type": "execute_result"
    },
    {
     "data": {
      "image/png": "[encoded data removed]",
      "text/plain": [
       "<Figure size 432x288 with 2 Axes>"
      ]
     },
     "metadata": {
      "needs_background": "light"
     },
     "output_type": "display_data"
    }
   ],
   "source": [
    "# Visualize data\n",
    "plt.imshow(ls8[::10,::10, 0], origin=\"bottom\", extent=ls8.extent(), cmap=plt.cm.binary, vmin=3e3, vmax=10e3)\n",
    "plt.colorbar()"
   ]
  },
  {
   "cell_type": "markdown",
   "metadata": {},
   "source": [
    "When opening or creating a `RegularGrid`, a non-default band type can be specified as a keyword argument. The following code re-opens the same grid as a `SimpleBand` and verifies that all data are the same."
   ]
  },
  {
   "cell_type": "code",
   "execution_count": 31,
   "metadata": {},
   "outputs": [
    {
     "data": {
      "text/plain": [
       "True"
      ]
     },
     "execution_count": 31,
     "metadata": {},
     "output_type": "execute_result"
    }
   ],
   "source": [
    "ls8_numpy = read_gtiff(\"LC08_L1TP_011031_20180930_20181010_01_T1_B8.TIF\", bandclass=SimpleBand)\n",
    "np.all(ls8[:,:] == ls8_numpy[:,:])    # True"
   ]
  },
  {
   "cell_type": "markdown",
   "metadata": {},
   "source": [
    "In the above, the slice syntax `[:,:]` is used to get an array of all grid data. Because the grid `ls8` has only a single band in this case, the data array has two dimensions. The normal simple slicing rules apply, i.e. one can do things like:"
   ]
  },
  {
   "cell_type": "code",
   "execution_count": 32,
   "metadata": {},
   "outputs": [
    {
     "name": "stdout",
     "output_type": "stream",
     "text": [
      "(1000, 500, 1)\n"
     ]
    }
   ],
   "source": [
    "subgrid = ls8[2000:3000, 4000:4500]\n",
    "print(subgrid.shape)"
   ]
  },
  {
   "cell_type": "code",
   "execution_count": 33,
   "metadata": {},
   "outputs": [
    {
     "name": "stdout",
     "output_type": "stream",
     "text": [
      "(7931, 7801, 1)\n"
     ]
    }
   ],
   "source": [
    "every_other = ls8[::2, ::2]\n",
    "print(every_other.shape)"
   ]
  },
  {
   "cell_type": "code",
   "execution_count": 34,
   "metadata": {},
   "outputs": [
    {
     "data": {
      "text/plain": [
       "(319192.5, 4503892.5, 15.0, 15.0, 0.0, -0.0)"
      ]
     },
     "execution_count": 34,
     "metadata": {},
     "output_type": "execute_result"
    }
   ],
   "source": [
    "ls8.transform"
   ]
  },
  {
   "cell_type": "markdown",
   "metadata": {},
   "source": [
    "Grid geolocation is based on an affine matrix transformation represented by the `.transform` attribute, as well as an associated coordinate system under the `.crs` attribute. The extent and bounding box of the grid can be retrieved using the respective properties:"
   ]
  },
  {
   "cell_type": "code",
   "execution_count": 35,
   "metadata": {},
   "outputs": [
    {
     "name": "stdout",
     "output_type": "stream",
     "text": [
      "(319192.5, 4503892.5, 553207.5, 4741807.5)\n",
      "(319200.0, 553200.0, 4503900.0, 4741800.0)\n"
     ]
    }
   ],
   "source": [
    "print(ls8.bbox())\n",
    "print(ls8.extent())"
   ]
  },
  {
   "cell_type": "markdown",
   "metadata": {},
   "source": [
    "The `extent` is of the form *(xmin, xmax, ymin, xmax)*, and refers to grid centers. The `bbox` is of the form *(xmin, ymin, xmax, ymax)*, and refers to grid edges.\n",
    "\n",
    "To get swaths of grid coordinates conveniently and in arbitrary coordinate systems, used the `.coordinates()` method, which returns a `CoordinateGenerator` instance that can be indexed to generate coordinate pairs."
   ]
  },
  {
   "cell_type": "code",
   "execution_count": 36,
   "metadata": {},
   "outputs": [
    {
     "name": "stdout",
     "output_type": "stream",
     "text": [
      "(-71.13895087509408, 40.66617380088692)\n",
      "(-71.13912389811426, 40.66603547707743)\n",
      "(array([[-71.13895088, -71.13877354, -71.1385962 , -71.13841886,\n",
      "        -71.13824152],\n",
      "       [-71.13895519, -71.13877785, -71.13860051, -71.13842317,\n",
      "        -71.13824583],\n",
      "       [-71.13895951, -71.13878217, -71.13860483, -71.13842749,\n",
      "        -71.13825015],\n",
      "       [-71.13896382, -71.13878648, -71.13860914, -71.1384318 ,\n",
      "        -71.13825446],\n",
      "       [-71.13896814, -71.1387908 , -71.13861346, -71.13843612,\n",
      "        -71.13825878]]), array([[40.6661738 , 40.66617709, 40.66618037, 40.66618366, 40.66618695],\n",
      "       [40.66630884, 40.66631212, 40.66631541, 40.6663187 , 40.66632198],\n",
      "       [40.66644388, 40.66644716, 40.66645045, 40.66645373, 40.66645702],\n",
      "       [40.66657891, 40.6665822 , 40.66658548, 40.66658877, 40.66659206],\n",
      "       [40.66671395, 40.66671724, 40.66672052, 40.66672381, 40.66672709]]))\n"
     ]
    }
   ],
   "source": [
    "coords = ls8.coordinates(crs=LonLatWGS84)\n",
    "print(coords[0,0])\n",
    "print(coords[-1,-1])\n",
    "print(coords[:5,:5])"
   ]
  },
  {
   "cell_type": "markdown",
   "metadata": {},
   "source": [
    "### Grid sampling"
   ]
  },
  {
   "cell_type": "markdown",
   "metadata": {},
   "source": [
    "*Nearest-neighbour* and *bilinear* sampling of grid points is supported via the `.sample()` method. It is also possible to resample the full grid at a new resolution, or to sample along a profile."
   ]
  },
  {
   "cell_type": "code",
   "execution_count": 37,
   "metadata": {},
   "outputs": [
    {
     "name": "stdout",
     "output_type": "stream",
     "text": [
      "[65535]\n"
     ]
    }
   ],
   "source": [
    "val = ls8.sample(Point((500000, 8750000), crs=ls8.crs))     # sample a point using the grid CRS\n",
    "print(val)"
   ]
  },
  {
   "cell_type": "code",
   "execution_count": 38,
   "metadata": {},
   "outputs": [
    {
     "name": "stdout",
     "output_type": "stream",
     "text": [
      "Original resolution: (15.0, 15.0)\n",
      "Resampled resolution: (100.0, 100.0)\n"
     ]
    }
   ],
   "source": [
    "# Resample grid at 100 m postings:\n",
    "ls8_coarse = ls8.resample(100, 100)\n",
    "print(\"Original resolution:\", ls8.resolution)\n",
    "print(\"Resampled resolution:\", ls8_coarse.resolution)"
   ]
  },
  {
   "cell_type": "code",
   "execution_count": 39,
   "metadata": {},
   "outputs": [
    {
     "data": {
      "text/plain": [
       "[<matplotlib.lines.Line2D at 0x7fe2db936588>]"
      ]
     },
     "execution_count": 39,
     "metadata": {},
     "output_type": "execute_result"
    },
    {
     "data": {
      "image/png": "[encoded data removed]",
      "text/plain": [
       "<Figure size 432x288 with 2 Axes>"
      ]
     },
     "metadata": {
      "needs_background": "light"
     },
     "output_type": "display_data"
    }
   ],
   "source": [
    "# Generate a line and sample at intervals along it\n",
    "transit = Line(zip(np.linspace(350000, 450000), np.linspace(4550000, 4700000)), crs=ls8.crs)\n",
    "mp, val = ls8.profile(transit)\n",
    "\n",
    "plt.subplot(2, 1, 1)\n",
    "x, y = mp.coords()\n",
    "plt.scatter(x, y, c=val.flatten(), edgecolor=\"none\", cmap=plt.cm.binary)\n",
    "\n",
    "plt.subplot(2, 1, 2)\n",
    "dist = Line(mp).cumulength()    # convert sample points to a line and extract\n",
    "                                # the cumulative distance along it\n",
    "plt.plot(dist, val[0])"
   ]
  },
  {
   "cell_type": "markdown",
   "metadata": {},
   "source": [
    "### Grid resizing\n",
    "\n",
    "Grids can be trimmed or expanded using the `.resize()` method, which takes a new bounding box as an argument."
   ]
  },
  {
   "cell_type": "markdown",
   "metadata": {},
   "source": [
    "**Note**\n",
    "\n",
    "When getting raster data, the array provided by slicing is not necessarily a view of the underlying data, and may be a copy instead. Modifying the array is not guaranteed to modify the raster. When the raster data must be replaced by an element-wise computation, use the `Grid.apply(func)` method, which operates in-place. The `apply` method may be chained.\n",
    "\n",
    "```\n",
    "# Example\n",
    "grid.apply(lambda x: x**2) \\\n",
    "    .apply(np.sin) \\\n",
    "    .apply(lambda x: np.where(x < 0.5, grid.nodata, x))\n",
    "```\n",
    "\n",
    "This handles nodata pixels automatically. If the raster data must be replaced by arbitrary data, set it explicitly with `Grid[:,:] = ...`.\n",
    "\n",
    "```\n",
    "# Example\n",
    "grid[:,:] = np.convolve(np.ones([3,3])/9.0, grid[:,:], mode='same')\n",
    "```"
   ]
  },
  {
   "cell_type": "code",
   "execution_count": 40,
   "metadata": {},
   "outputs": [
    {
     "data": {
      "text/plain": [
       "<matplotlib.image.AxesImage at 0x7fe2db8aada0>"
      ]
     },
     "execution_count": 40,
     "metadata": {},
     "output_type": "execute_result"
    },
    {
     "data": {
      "image/png": "[encoded data removed]",
      "text/plain": [
       "<Figure size 432x288 with 1 Axes>"
      ]
     },
     "metadata": {
      "needs_background": "light"
     },
     "output_type": "display_data"
    }
   ],
   "source": [
    "ls8_small = ls8.resize((350000, 4600000, 450000, 4650000))\n",
    "plt.imshow(ls8_small[:,:,0], origin=\"bottom\", extent=ls8_small.extent(), cmap=plt.cm.binary, vmin=3e3, vmax=12e3)"
   ]
  },
  {
   "cell_type": "markdown",
   "metadata": {},
   "source": [
    "### Creating `RegularGrid` instances"
   ]
  },
  {
   "cell_type": "markdown",
   "metadata": {
    "collapsed": true
   },
   "source": [
    "New `RegularGrid` instances are created by specifying a geotransform. The geotransform is represented by a tuple of the form\n",
    "```\n",
    "transform = (xll, yll, dx, dy, sx, sy)\n",
    "```\n",
    "where `xll` and `yll` are the coordinates of the lower left grid corner, `dx` and `dy` specify resolution, and `sx` and `sy` specify grid skew and rotation.\n",
    "\n",
    "The following creates an empty global grid with 5 degree resolution, oriented \"north-up\" and \"east-right\", and then plots the pixel centers:"
   ]
  },
  {
   "cell_type": "code",
   "execution_count": 41,
   "metadata": {},
   "outputs": [
    {
     "data": {
      "image/png": "[encoded data removed]",
      "text/plain": [
       "<Figure size 432x288 with 1 Axes>"
      ]
     },
     "metadata": {
      "needs_background": "light"
     },
     "output_type": "display_data"
    }
   ],
   "source": [
    "from karta.crs import LonLatWGS84, GallPetersEqualArea\n",
    "newgrid = RegularGrid((-180, -80, 5, 5, 0, 0), values=np.zeros((160//5, 360//5)), crs=LonLatWGS84)\n",
    "\n",
    "# visualize the coordinate positions on a Gall-Peters projection\n",
    "coords = newgrid.coordinates(crs=GallPetersEqualArea)\n",
    "x, y = coords[:,:]\n",
    "_ = plt.plot(x, y, \".k\", ms=2)"
   ]
  },
  {
   "cell_type": "markdown",
   "metadata": {
    "collapsed": true
   },
   "source": [
    "## Coordinate reference systems\n",
    "\n",
    "TODO"
   ]
  }
 ],
 "metadata": {
  "kernelspec": {
   "display_name": "Python 3",
   "language": "python",
   "name": "python3"
  },
  "language_info": {
   "codemirror_mode": {
    "name": "ipython",
    "version": 3
   },
   "file_extension": ".py",
   "mimetype": "text/x-python",
   "name": "python",
   "nbconvert_exporter": "python",
   "pygments_lexer": "ipython3",
   "version": "3.6.7"
  }
 },
 "nbformat": 4,
 "nbformat_minor": 1
}
